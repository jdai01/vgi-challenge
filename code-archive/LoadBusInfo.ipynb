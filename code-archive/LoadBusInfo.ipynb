{
 "cells": [
  {
   "cell_type": "code",
   "execution_count": 11,
   "metadata": {},
   "outputs": [],
   "source": [
    "# Import modules\n",
    "import json\n",
    "from datetime import datetime"
   ]
  },
  {
   "cell_type": "markdown",
   "metadata": {},
   "source": [
    "# Load JSON file"
   ]
  },
  {
   "cell_type": "code",
   "execution_count": 3,
   "metadata": {},
   "outputs": [],
   "source": [
    "vehicle_activity = \"vehicle_activity.json\"\n",
    "\n",
    "with open(vehicle_activity, 'r') as f:\n",
    "    data = json.load(f)"
   ]
  },
  {
   "cell_type": "markdown",
   "metadata": {},
   "source": [
    "# Create Class and Obtain necessary information"
   ]
  },
  {
   "cell_type": "code",
   "execution_count": 7,
   "metadata": {},
   "outputs": [],
   "source": [
    "info = data[0]"
   ]
  },
  {
   "cell_type": "code",
   "execution_count": 25,
   "metadata": {},
   "outputs": [],
   "source": [
    "class Vehicle():\n",
    "\n",
    "    def __init__(self, info):\n",
    "        # Recorded Info\n",
    "        self.RecordedAtTime = info[\"RecordedAtTime\"]                    # dtype: str / datetime\n",
    "        self.ProgressBetweenStops = info[\"ProgressBetweenStops\"]        # dtype: dict\n",
    "\n",
    "        # Bus Info\n",
    "        busInfo = info[\"MonitoredVehicleJourney\"]\n",
    "        self.LineRef = busInfo[\"LineRef\"]                               # dtype: str\n",
    "        self.OriginName = busInfo[\"OriginName\"]                         # dtype: str\n",
    "        self.DestinationName = busInfo[\"DestinationName\"]               # dtype: str\n",
    "        self.Monitored = busInfo[\"Monitored\"]                           # dtype: bool\n",
    "        self.InCongestion = busInfo[\"InCongestion\"]                     # dtype: bool\n",
    "        self.InPanic = busInfo[\"InPanic\"]                               # dtype: bool\n",
    "        self.VehicleLocation = busInfo[\"VehicleLocation\"]               # dtype: dict\n",
    "        self.Delay = busInfo[\"Delay\"]                                   # dtype: str\n",
    "        self.PreviousCalls = busInfo[\"PreviousCalls\"][\"PreviousCall\"]   # dtype: list\n",
    "        self.MonitoredCall = busInfo[\"MonitoredCall\"]                   # dtype: dict\n",
    "        self.OnwardCalls = busInfo[\"OnwardCalls\"][\"OnwardCall\"]         # dtype: list\n",
    "\n",
    "        # Initialised functions\n",
    "        self.fixDataType()\n",
    "\n",
    "\n",
    "    def fixDataType(self):\n",
    "        self.RecordedAtTime = self.castDateTime(self.RecordedAtTime)\n",
    "\n",
    "    @staticmethod\n",
    "    def castDateTime(dt_str: str):\n",
    "        return datetime.strptime(dt_str, \"%Y-%m-%dT%H:%M:%S.%f%z\")\n",
    "\n",
    "    def to_dict(self):\n",
    "        # Convert the instance's attributes into a dictionary\n",
    "        return {\n",
    "            \"RecordedAtTime\": self.RecordedAtTime.isoformat() if isinstance(self.RecordedAtTime, datetime) else self.RecordedAtTime,\n",
    "            \"ProgressBetweenStops\": self.ProgressBetweenStops,\n",
    "            \"LineRef\": self.LineRef,\n",
    "            \"OriginName\": self.OriginName,\n",
    "            \"DestinationName\": self.DestinationName,\n",
    "            \"Monitored\": self.Monitored,\n",
    "            \"InCongestion\": self.InCongestion,\n",
    "            \"InPanic\": self.InPanic,\n",
    "            \"VehicleLocation\": self.VehicleLocation,\n",
    "            \"Delay\": self.Delay,\n",
    "            \"PreviousCalls\": self.PreviousCalls,\n",
    "            \"MonitoredCall\": self.MonitoredCall,\n",
    "            \"OnwardCalls\": self.OnwardCalls\n",
    "        }\n",
    "\n",
    "    def to_json(self, filename):\n",
    "        data = self.to_dict()\n",
    "\n",
    "        # Write the dictionary to a JSON file\n",
    "        with open(filename, 'w') as f:\n",
    "            json.dump(self.to_dict(), f, indent=4)\n"
   ]
  },
  {
   "cell_type": "code",
   "execution_count": 26,
   "metadata": {},
   "outputs": [],
   "source": [
    "bus1 = Vehicle(info)"
   ]
  },
  {
   "cell_type": "code",
   "execution_count": 28,
   "metadata": {},
   "outputs": [],
   "source": [
    "fname = \"test.json\"\n",
    "\n",
    "bus1.to_json(fname)"
   ]
  },
  {
   "cell_type": "code",
   "execution_count": 24,
   "metadata": {},
   "outputs": [
    {
     "data": {
      "text/plain": [
       "datetime.datetime(2024, 2, 14, 12, 5, 6, 807000, tzinfo=datetime.timezone(datetime.timedelta(seconds=3600)))"
      ]
     },
     "execution_count": 24,
     "metadata": {},
     "output_type": "execute_result"
    }
   ],
   "source": [
    "bus1.RecordedAtTime"
   ]
  },
  {
   "cell_type": "code",
   "execution_count": 10,
   "metadata": {},
   "outputs": [
    {
     "data": {
      "text/plain": [
       "{'StopPointRef': 'INVGMAN-Schl 2',\n",
       " 'VisitNumber': '25',\n",
       " 'StopPointName': 'Manching, Schloßberg',\n",
       " 'VehicleAtStop': 'false',\n",
       " 'DestinationDisplay': 'Geisenfeld - Ainau',\n",
       " 'AimedArrivalTime': '2024-02-14T12:04:00+01:00',\n",
       " 'AimedDepartureTime': '2024-02-14T12:04:00+01:00'}"
      ]
     },
     "execution_count": 10,
     "metadata": {},
     "output_type": "execute_result"
    }
   ],
   "source": [
    "bus1.MonitoredCall"
   ]
  }
 ],
 "metadata": {
  "kernelspec": {
   "display_name": "Python 3",
   "language": "python",
   "name": "python3"
  },
  "language_info": {
   "codemirror_mode": {
    "name": "ipython",
    "version": 3
   },
   "file_extension": ".py",
   "mimetype": "text/x-python",
   "name": "python",
   "nbconvert_exporter": "python",
   "pygments_lexer": "ipython3",
   "version": "3.12.4"
  }
 },
 "nbformat": 4,
 "nbformat_minor": 2
}
