{
 "cells": [
  {
   "cell_type": "markdown",
   "metadata": {},
   "source": [
    "loading of assets and analysis of dataset"
   ]
  },
  {
   "cell_type": "code",
   "execution_count": 1,
   "metadata": {},
   "outputs": [
    {
     "name": "stdout",
     "output_type": "stream",
     "text": [
      "Index(['stop_id', 'stop_code', 'stop_name', 'stop_desc', 'stop_lat',\n",
      "       'stop_lon', 'zone_id', 'stop_url', 'location_type', 'parent_station',\n",
      "       'platform_code', 'stop_timezone_header'],\n",
      "      dtype='object')\n"
     ]
    }
   ],
   "source": [
    "from io import StringIO, BytesIO\n",
    "import folium\n",
    "import folium.plugins\n",
    "import pandas as pd\n",
    "bus_icon = folium.CustomIcon(\n",
    "    \"assets/bus_stop.png\",\n",
    "    icon_size=(38, 95),\n",
    "    icon_anchor=(22, 94),\n",
    "    shadow_size=(50, 64),\n",
    "    shadow_anchor=(4, 62),\n",
    "    popup_anchor=(-3, -76),\n",
    ")\n",
    "\n",
    "cloud = folium.Icon(icon=\"cloud\")\n",
    "\n",
    "stops = pd.read_csv('GTFS-Daten/stops.txt')\n",
    "print(stops.columns)\n"
   ]
  },
  {
   "cell_type": "markdown",
   "metadata": {},
   "source": [
    "Creation of folium map and adding of feature group 'bus'"
   ]
  },
  {
   "cell_type": "code",
   "execution_count": null,
   "metadata": {},
   "outputs": [],
   "source": [
    "m = folium.Map(location=(48.7624060,11.4257570), zoom_start=16)\n",
    "stops_modified = stops[['stop_id','stop_lat','stop_lon','stop_name']]\n",
    "# folium.Marker(location=[48.7624060,11.4257570], icon=cloud).add_to(m) \n",
    "\n",
    "\n",
    "fg = folium.FeatureGroup(name=\"groups\")\n",
    "m.add_child(fg)\n",
    "\n",
    "\n",
    "for i,row in stops_modified.iterrows():\n",
    "    folium.Marker(location=[row['stop_lat'],row['stop_lon']]).add_to(fg) \n",
    "    print([row['stop_lat'],row['stop_lon']])\n",
    "\n",
    "folium.LayerControl(collapsed=False).add_to(m)\n",
    "\n",
    "# m"
   ]
  },
  {
   "cell_type": "markdown",
   "metadata": {},
   "source": [
    "cleaning of dataset to exclude parent stations and only the child stations"
   ]
  },
  {
   "cell_type": "code",
   "execution_count": 10,
   "metadata": {},
   "outputs": [
    {
     "name": "stdout",
     "output_type": "stream",
     "text": [
      "      stop_id   stop_lat   stop_lon                    stop_name\n",
      "1         101  48.739588  11.436405          Klinik - Dr. Reiser\n",
      "2         102  48.739497  11.436552          Klinik - Dr. Reiser\n",
      "4         201  48.776183  11.330453       Dünzlau, An der Breite\n",
      "5         202  48.776540  11.329962       Dünzlau, An der Breite\n",
      "7         301  48.718707  11.371754           Rosenschwaigstraße\n",
      "...       ...        ...        ...                          ...\n",
      "3400  1008401  48.412610  11.469910  Petershausen, S-Bahnhof Ost\n",
      "3402  1008501  49.108716  11.350092          Greding, Viehhausen\n",
      "3403  2012001  48.869148  11.065703      Dollnstein, Schlehenweg\n",
      "3404  2013201  48.836810  11.021410                      Ensfeld\n",
      "3405  2013301  48.856082  11.040198                    Haunsfeld\n",
      "\n",
      "[2367 rows x 4 columns]\n"
     ]
    }
   ],
   "source": [
    "#create a dictionary {stop_name: [stop_lat,stop_lon]}\n",
    "#create JSON\n",
    "\n",
    "import json\n",
    "\n",
    "stop_dict = {}\n",
    "\n",
    "stops = pd.read_csv('GTFS-Daten/stops.txt')\n",
    "parent_station_list=stops['parent_station'].unique()\n",
    "filtered_df = stops[~stops['stop_id'].isin(parent_station_list)][['stop_id','stop_lat','stop_lon', 'stop_name']]\n",
    "print(filtered_df)\n",
    "# stops_modified = stops[['stop_id','stop_lat','stop_lon', 'stop_name']].loc[stops_modified['stop_id'].str[0] != \"V\"]\n",
    "\n",
    "\n",
    "# json_stops = json.dumps(stop_dict, indent=4)\n",
    "\n",
    "# with open(\"jstops.json\", \"w\") as outfile:\n",
    "#     outfile.write(json_stops)\n",
    "\n",
    "# print(stops_modified)"
   ]
  },
  {
   "cell_type": "markdown",
   "metadata": {},
   "source": [
    "Testing of difflab library to check for closest string match for specific use cases:\n",
    "\n",
    "e.g: augsburger straße geisenfeldwinden is on the xml but not a valid bus stop in trips.txt in GTFS. This is because its called augsburger straße geisenfeld instead.\n",
    "\n",
    "\n",
    "This has to be implemented when a stop cant be found on stops.txt when merging with the xml"
   ]
  },
  {
   "cell_type": "code",
   "execution_count": 4,
   "metadata": {},
   "outputs": [
    {
     "name": "stdout",
     "output_type": "stream",
     "text": [
      "['Geisenfeldwinden, Augsburger Str']\n"
     ]
    }
   ],
   "source": [
    "import difflib\n",
    "print(difflib.get_close_matches('Geisenfeld, Augsburger Straße',['Geisenfeldwinden, Augsburger Str','Schrobenhausen, Augsburger Straße'],n=1))"
   ]
  },
  {
   "cell_type": "markdown",
   "metadata": {},
   "source": [
    "m2 is a test about marker clusters"
   ]
  },
  {
   "cell_type": "code",
   "execution_count": null,
   "metadata": {},
   "outputs": [],
   "source": [
    "m2 = folium.Map(location=(48.7624060,11.4257570), zoom_start=16)\n",
    "\n",
    "fg = folium.FeatureGroup(name=\"bus stop view\")\n",
    "fg2 = folium.FeatureGroup(name=\"live bus view\")\n",
    "\n",
    "m2.add_child(fg)\n",
    "m2.add_child(fg2)\n",
    "\n",
    "folium.LayerControl(collapsed=False, control=True).add_to(m2)\n",
    "\n",
    "\n",
    "stops_cluster = folium.plugins.MarkerCluster(\n",
    "    name='bus_stops',\n",
    "    overlay=True,\n",
    "    control=False,\n",
    "    icon_create_function=None,\n",
    "    \n",
    ").add_to(fg)\n",
    "\n",
    "\n",
    "\n",
    "for i,row in stops_modified.iterrows():\n",
    "    marker = folium.Marker(location=[row['stop_lat'],row['stop_lon']], name=row['stop_name'], tooltip=row['stop_name'])\n",
    "    stops_cluster.add_child(marker)\n",
    "\n",
    "\n",
    "stops_search = folium.plugins.Search(\n",
    "    layer=stops_cluster,\n",
    "    geom_type=\"Point\",\n",
    "    placeholder=\"Search for a Bus Stop\",\n",
    "    collapsed=True,\n",
    "    search_label=\"name\",\n",
    ").add_to(m2)\n",
    "\n",
    "# m2\n",
    "# m2.save(\"map.html\")"
   ]
  },
  {
   "cell_type": "markdown",
   "metadata": {},
   "source": [
    "getting current bus location data"
   ]
  },
  {
   "cell_type": "code",
   "execution_count": null,
   "metadata": {},
   "outputs": [
    {
     "name": "stdout",
     "output_type": "stream",
     "text": [
      "{'@srsName': 'real', 'Longitude': '11.503959', 'Latitude': '48.711247'}\n"
     ]
    }
   ],
   "source": [
    "import xmltodict\n",
    "\n",
    "xml_file = \"SIRI_VM_Test_VGI.xml\"\n",
    "\n",
    "with open(xml_file, \"r\", encoding=\"ISO-8859-1\") as f:\n",
    "    xml_data = f.read()\n",
    "\n",
    "# Convert XML to a Python dictionary\n",
    "dict_data = xmltodict.parse(xml_data)[\"Siri\"][\"ServiceDelivery\"][\"VehicleMonitoringDelivery\"][\"VehicleActivity\"]\n",
    "\n",
    "live_clusters = folium.plugins.MarkerCluster(\n",
    "    name='bus_stops',\n",
    "    overlay=True,\n",
    "    control=False,\n",
    "    icon_create_function=None,\n",
    ").add_to(fg2)\n",
    "\n",
    "for i in dict_data:\n",
    "    marker = folium.Marker(location=[i['MonitoredVehicleJourney']['VehicleLocation']['Longtitude'],i['MonitoredVehicleJourney']['VehicleLocation']['Latitude']], name=)\n",
    "    stops_cluster.add_child(marker)\n",
    "\n",
    "\n",
    "\n",
    "stops_search = folium.plugins.Search(\n",
    "    layer=live_clusters,\n",
    "    geom_type=\"Point\",\n",
    "    placeholder=\"Search for a Bus\",\n",
    "    collapsed=True,\n",
    "    search_label=\"name\",\n",
    ").add_to(m2)\n"
   ]
  },
  {
   "cell_type": "code",
   "execution_count": null,
   "metadata": {},
   "outputs": [
    {
     "name": "stdout",
     "output_type": "stream",
     "text": [
      "INVG16\n",
      "Zell, Dekan-Trost-Straße\n",
      "PT4S\n",
      "0\n",
      "0\n"
     ]
    }
   ],
   "source": [
    "n=12\n",
    "print(dict_data[n]['MonitoredVehicleJourney']['PublishedLineName'])\n",
    "print(dict_data[12]['MonitoredVehicleJourney']['DestinationName'])\n",
    "print(dict_data[0]['MonitoredVehicleJourney']['Delay'])\n",
    "print(dict_data[12]['Extensions']['init-o:OccupancyData']['init-o:PassengersNumber'])\n",
    "print(dict_data[4]['Extensions']['init-o:OccupancyData']['init-o:OccupancyPercentage'])"
   ]
  },
  {
   "cell_type": "code",
   "execution_count": null,
   "metadata": {},
   "outputs": [],
   "source": []
  }
 ],
 "metadata": {
  "kernelspec": {
   "display_name": "vgi-hackathon-4e6wObkR-py3.12",
   "language": "python",
   "name": "python3"
  },
  "language_info": {
   "codemirror_mode": {
    "name": "ipython",
    "version": 3
   },
   "file_extension": ".py",
   "mimetype": "text/x-python",
   "name": "python",
   "nbconvert_exporter": "python",
   "pygments_lexer": "ipython3",
   "version": "3.12.7"
  }
 },
 "nbformat": 4,
 "nbformat_minor": 2
}
