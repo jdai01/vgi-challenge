{
 "cells": [
  {
   "cell_type": "code",
   "execution_count": 2,
   "metadata": {},
   "outputs": [],
   "source": [
    "import os\n",
    "import csv\n",
    "from collections import defaultdict\n",
    "import json"
   ]
  },
  {
   "cell_type": "code",
   "execution_count": 3,
   "metadata": {},
   "outputs": [],
   "source": [
    "path = \"GTFS-Daten\"\n",
    "trips = os.path.join(path, \"trips.txt\")\n",
    "\n",
    "output_path = \"GTFS-human-readable\"\n",
    "trips_csv = os.path.join(output_path, \"trips.csv\")\n",
    "trips_summary_json = os.path.join(output_path, \"trips_summary.json\")"
   ]
  },
  {
   "cell_type": "code",
   "execution_count": 4,
   "metadata": {},
   "outputs": [],
   "source": [
    "# Initialize a dictionary to hold summary data\n",
    "summary = defaultdict(int)\n",
    "unique_routes = set()\n",
    "unique_services = set()\n",
    "\n",
    "with open(trips, \"r\") as file:\n",
    "    reader = csv.DictReader(file)\n",
    "    \n",
    "    for row in reader:\n",
    "        # Count total trips\n",
    "        summary[\"total_trips\"] += 1\n",
    "        \n",
    "        # Track unique routes and services\n",
    "        unique_routes.add(row[\"route_id\"])\n",
    "        unique_services.add(row[\"service_id\"])\n",
    "\n",
    "# Store the unique counts\n",
    "summary[\"unique_routes\"] = len(unique_routes)\n",
    "summary[\"unique_services\"] = len(unique_services)"
   ]
  },
  {
   "cell_type": "code",
   "execution_count": 5,
   "metadata": {},
   "outputs": [
    {
     "data": {
      "text/plain": [
       "defaultdict(int,\n",
       "            {'total_trips': 3978, 'unique_routes': 102, 'unique_services': 34})"
      ]
     },
     "execution_count": 5,
     "metadata": {},
     "output_type": "execute_result"
    }
   ],
   "source": [
    "summary"
   ]
  },
  {
   "cell_type": "markdown",
   "metadata": {},
   "source": [
    "# Create trips details that is easy to read and understand\n",
    "- only route_id, service_id, trip_id (bus_nr), trip_headsign (direction)"
   ]
  },
  {
   "cell_type": "code",
   "execution_count": 6,
   "metadata": {},
   "outputs": [],
   "source": [
    "\"\"\" trips.csv \"\"\"\n",
    "\n",
    "# Open the input and output files\n",
    "with open(trips, \"r\", newline='') as infile, open(trips_csv, \"w\", newline='') as outfile:\n",
    "    reader = csv.DictReader(infile)\n",
    "    \n",
    "    # Define the headers for the output CSV\n",
    "    fieldnames = [\"route_id\", \"service_id\", \"trip_id\", \"trip_headsign\"]\n",
    "    writer = csv.DictWriter(outfile, fieldnames=fieldnames)\n",
    "    \n",
    "    # Write the header to the output file\n",
    "    writer.writeheader()\n",
    "    \n",
    "    # Write selected fields to the output file\n",
    "    for row in reader:\n",
    "        # Extract the relevant columns and process trip_id\n",
    "        trip_id_parts = row[\"trip_id\"].split(\":\")\n",
    "        \n",
    "        # Check if trip_id has enough parts to avoid index errors\n",
    "        if len(trip_id_parts) >= 4:\n",
    "            row[\"trip_id\"] = trip_id_parts[2]  # Get the portion between the 2nd and 3rd colon\n",
    "\n",
    "        # Write the modified row to the output file\n",
    "        extracted_row = {field: row[field] for field in fieldnames}\n",
    "        writer.writerow(extracted_row)"
   ]
  },
  {
   "cell_type": "code",
   "execution_count": 7,
   "metadata": {},
   "outputs": [],
   "source": [
    "\"\"\" trips_summary.json - summary \"\"\"\n",
    "\n",
    "# Initialize a dictionary to hold the summary data\n",
    "trip_summary = defaultdict(lambda: defaultdict(int))\n",
    "\n",
    "# Open the trips.csv file and process it\n",
    "with open(trips_csv, \"r\", newline='') as infile:\n",
    "    reader = csv.DictReader(infile)\n",
    "    \n",
    "    for row in reader:\n",
    "        trip_id = row[\"trip_id\"]\n",
    "        trip_headsign = row[\"trip_headsign\"]\n",
    "        \n",
    "        # Increment the count of the specific trip_headsign for the given trip_id\n",
    "        trip_summary[trip_id][trip_headsign] += 1\n",
    "\n",
    "# Write the summary to a JSON file\n",
    "with open(trips_summary_json, \"w\") as outfile:\n",
    "    json.dump(trip_summary, outfile, indent=4, ensure_ascii=False)"
   ]
  },
  {
   "cell_type": "markdown",
   "metadata": {},
   "source": [
    "\"\"\""
   ]
  }
 ],
 "metadata": {
  "kernelspec": {
   "display_name": "vgi-hackathon-4e6wObkR-py3.12",
   "language": "python",
   "name": "python3"
  },
  "language_info": {
   "codemirror_mode": {
    "name": "ipython",
    "version": 3
   },
   "file_extension": ".py",
   "mimetype": "text/x-python",
   "name": "python",
   "nbconvert_exporter": "python",
   "pygments_lexer": "ipython3",
   "version": "3.12.7"
  }
 },
 "nbformat": 4,
 "nbformat_minor": 2
}
